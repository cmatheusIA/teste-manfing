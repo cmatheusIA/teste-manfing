{
 "cells": [
  {
   "cell_type": "code",
   "execution_count": 1,
   "outputs": [],
   "source": [
    "import pandas as pd"
   ],
   "metadata": {
    "collapsed": false,
    "pycharm": {
     "name": "#%%\n"
    }
   }
  },
  {
   "cell_type": "code",
   "execution_count": 2,
   "outputs": [
    {
     "data": {
      "text/plain": "   BillNo                             Itemname  Quantity                Date  \\\n0  536365   WHITE HANGING HEART T-LIGHT HOLDER         6 2010-12-01 08:26:00   \n1  536365                  WHITE METAL LANTERN         6 2010-12-01 08:26:00   \n2  536365       CREAM CUPID HEARTS COAT HANGER         8 2010-12-01 08:26:00   \n3  536365  KNITTED UNION FLAG HOT WATER BOTTLE         6 2010-12-01 08:26:00   \n4  536365       RED WOOLLY HOTTIE WHITE HEART.         6 2010-12-01 08:26:00   \n\n   Price  CustomerID         Country  \n0   2.55     17850.0  United Kingdom  \n1   3.39     17850.0  United Kingdom  \n2   2.75     17850.0  United Kingdom  \n3   3.39     17850.0  United Kingdom  \n4   3.39     17850.0  United Kingdom  ",
      "text/html": "<div>\n<style scoped>\n    .dataframe tbody tr th:only-of-type {\n        vertical-align: middle;\n    }\n\n    .dataframe tbody tr th {\n        vertical-align: top;\n    }\n\n    .dataframe thead th {\n        text-align: right;\n    }\n</style>\n<table border=\"1\" class=\"dataframe\">\n  <thead>\n    <tr style=\"text-align: right;\">\n      <th></th>\n      <th>BillNo</th>\n      <th>Itemname</th>\n      <th>Quantity</th>\n      <th>Date</th>\n      <th>Price</th>\n      <th>CustomerID</th>\n      <th>Country</th>\n    </tr>\n  </thead>\n  <tbody>\n    <tr>\n      <th>0</th>\n      <td>536365</td>\n      <td>WHITE HANGING HEART T-LIGHT HOLDER</td>\n      <td>6</td>\n      <td>2010-12-01 08:26:00</td>\n      <td>2.55</td>\n      <td>17850.0</td>\n      <td>United Kingdom</td>\n    </tr>\n    <tr>\n      <th>1</th>\n      <td>536365</td>\n      <td>WHITE METAL LANTERN</td>\n      <td>6</td>\n      <td>2010-12-01 08:26:00</td>\n      <td>3.39</td>\n      <td>17850.0</td>\n      <td>United Kingdom</td>\n    </tr>\n    <tr>\n      <th>2</th>\n      <td>536365</td>\n      <td>CREAM CUPID HEARTS COAT HANGER</td>\n      <td>8</td>\n      <td>2010-12-01 08:26:00</td>\n      <td>2.75</td>\n      <td>17850.0</td>\n      <td>United Kingdom</td>\n    </tr>\n    <tr>\n      <th>3</th>\n      <td>536365</td>\n      <td>KNITTED UNION FLAG HOT WATER BOTTLE</td>\n      <td>6</td>\n      <td>2010-12-01 08:26:00</td>\n      <td>3.39</td>\n      <td>17850.0</td>\n      <td>United Kingdom</td>\n    </tr>\n    <tr>\n      <th>4</th>\n      <td>536365</td>\n      <td>RED WOOLLY HOTTIE WHITE HEART.</td>\n      <td>6</td>\n      <td>2010-12-01 08:26:00</td>\n      <td>3.39</td>\n      <td>17850.0</td>\n      <td>United Kingdom</td>\n    </tr>\n  </tbody>\n</table>\n</div>"
     },
     "execution_count": 2,
     "metadata": {},
     "output_type": "execute_result"
    }
   ],
   "source": [
    "data = pd.read_excel('./DataSet_Test.xlsx')\n",
    "data.head()"
   ],
   "metadata": {
    "collapsed": false,
    "pycharm": {
     "name": "#%%\n"
    }
   }
  },
  {
   "cell_type": "markdown",
   "source": [
    "Feature engineering"
   ],
   "metadata": {
    "collapsed": false,
    "pycharm": {
     "name": "#%% md\n"
    }
   }
  },
  {
   "cell_type": "code",
   "execution_count": 3,
   "outputs": [],
   "source": [
    "data[\"Price_total\"] = data[\"Quantity\"]*data[\"Price\"]"
   ],
   "metadata": {
    "collapsed": false,
    "pycharm": {
     "name": "#%%\n"
    }
   }
  },
  {
   "cell_type": "code",
   "execution_count": 4,
   "outputs": [
    {
     "data": {
      "text/plain": "   BillNo                             Itemname  Quantity                Date  \\\n0  536365   WHITE HANGING HEART T-LIGHT HOLDER         6 2010-12-01 08:26:00   \n1  536365                  WHITE METAL LANTERN         6 2010-12-01 08:26:00   \n2  536365       CREAM CUPID HEARTS COAT HANGER         8 2010-12-01 08:26:00   \n3  536365  KNITTED UNION FLAG HOT WATER BOTTLE         6 2010-12-01 08:26:00   \n4  536365       RED WOOLLY HOTTIE WHITE HEART.         6 2010-12-01 08:26:00   \n\n   Price  CustomerID         Country  Price_total  \n0   2.55     17850.0  United Kingdom        15.30  \n1   3.39     17850.0  United Kingdom        20.34  \n2   2.75     17850.0  United Kingdom        22.00  \n3   3.39     17850.0  United Kingdom        20.34  \n4   3.39     17850.0  United Kingdom        20.34  ",
      "text/html": "<div>\n<style scoped>\n    .dataframe tbody tr th:only-of-type {\n        vertical-align: middle;\n    }\n\n    .dataframe tbody tr th {\n        vertical-align: top;\n    }\n\n    .dataframe thead th {\n        text-align: right;\n    }\n</style>\n<table border=\"1\" class=\"dataframe\">\n  <thead>\n    <tr style=\"text-align: right;\">\n      <th></th>\n      <th>BillNo</th>\n      <th>Itemname</th>\n      <th>Quantity</th>\n      <th>Date</th>\n      <th>Price</th>\n      <th>CustomerID</th>\n      <th>Country</th>\n      <th>Price_total</th>\n    </tr>\n  </thead>\n  <tbody>\n    <tr>\n      <th>0</th>\n      <td>536365</td>\n      <td>WHITE HANGING HEART T-LIGHT HOLDER</td>\n      <td>6</td>\n      <td>2010-12-01 08:26:00</td>\n      <td>2.55</td>\n      <td>17850.0</td>\n      <td>United Kingdom</td>\n      <td>15.30</td>\n    </tr>\n    <tr>\n      <th>1</th>\n      <td>536365</td>\n      <td>WHITE METAL LANTERN</td>\n      <td>6</td>\n      <td>2010-12-01 08:26:00</td>\n      <td>3.39</td>\n      <td>17850.0</td>\n      <td>United Kingdom</td>\n      <td>20.34</td>\n    </tr>\n    <tr>\n      <th>2</th>\n      <td>536365</td>\n      <td>CREAM CUPID HEARTS COAT HANGER</td>\n      <td>8</td>\n      <td>2010-12-01 08:26:00</td>\n      <td>2.75</td>\n      <td>17850.0</td>\n      <td>United Kingdom</td>\n      <td>22.00</td>\n    </tr>\n    <tr>\n      <th>3</th>\n      <td>536365</td>\n      <td>KNITTED UNION FLAG HOT WATER BOTTLE</td>\n      <td>6</td>\n      <td>2010-12-01 08:26:00</td>\n      <td>3.39</td>\n      <td>17850.0</td>\n      <td>United Kingdom</td>\n      <td>20.34</td>\n    </tr>\n    <tr>\n      <th>4</th>\n      <td>536365</td>\n      <td>RED WOOLLY HOTTIE WHITE HEART.</td>\n      <td>6</td>\n      <td>2010-12-01 08:26:00</td>\n      <td>3.39</td>\n      <td>17850.0</td>\n      <td>United Kingdom</td>\n      <td>20.34</td>\n    </tr>\n  </tbody>\n</table>\n</div>"
     },
     "execution_count": 4,
     "metadata": {},
     "output_type": "execute_result"
    }
   ],
   "source": [
    "data.head()"
   ],
   "metadata": {
    "collapsed": false,
    "pycharm": {
     "name": "#%%\n"
    }
   }
  },
  {
   "cell_type": "code",
   "execution_count": 5,
   "outputs": [],
   "source": [
    "data_TS =pd.DataFrame()"
   ],
   "metadata": {
    "collapsed": false,
    "pycharm": {
     "name": "#%%\n"
    }
   }
  },
  {
   "cell_type": "code",
   "execution_count": 6,
   "outputs": [],
   "source": [
    "data_TS[\"date\"] = data.Date\n",
    "data_TS[\"price_total\"] = data.Price_total\n",
    "data_TS[\"quantity\"] = data.Quantity"
   ],
   "metadata": {
    "collapsed": false,
    "pycharm": {
     "name": "#%%\n"
    }
   }
  },
  {
   "cell_type": "code",
   "execution_count": 7,
   "outputs": [],
   "source": [
    "data_TS[\"quantity\"] = data.Quantity"
   ],
   "metadata": {
    "collapsed": false,
    "pycharm": {
     "name": "#%%\n"
    }
   }
  },
  {
   "cell_type": "code",
   "execution_count": 8,
   "outputs": [],
   "source": [
    "data_TS[\"price_unit\"] = data.Price"
   ],
   "metadata": {
    "collapsed": false,
    "pycharm": {
     "name": "#%%\n"
    }
   }
  },
  {
   "cell_type": "code",
   "execution_count": 9,
   "outputs": [
    {
     "data": {
      "text/plain": "                      date  price_total  quantity  price_unit\n0      2010-12-01 08:26:00        15.30         6        2.55\n1      2010-12-01 08:26:00        20.34         6        3.39\n2      2010-12-01 08:26:00        22.00         8        2.75\n3      2010-12-01 08:26:00        20.34         6        3.39\n4      2010-12-01 08:26:00        20.34         6        3.39\n...                    ...          ...       ...         ...\n522059 2011-12-09 12:50:00        10.20        12        0.85\n522060 2011-12-09 12:50:00        12.60         6        2.10\n522061 2011-12-09 12:50:00        16.60         4        4.15\n522062 2011-12-09 12:50:00        16.60         4        4.15\n522063 2011-12-09 12:50:00        14.85         3        4.95\n\n[522064 rows x 4 columns]",
      "text/html": "<div>\n<style scoped>\n    .dataframe tbody tr th:only-of-type {\n        vertical-align: middle;\n    }\n\n    .dataframe tbody tr th {\n        vertical-align: top;\n    }\n\n    .dataframe thead th {\n        text-align: right;\n    }\n</style>\n<table border=\"1\" class=\"dataframe\">\n  <thead>\n    <tr style=\"text-align: right;\">\n      <th></th>\n      <th>date</th>\n      <th>price_total</th>\n      <th>quantity</th>\n      <th>price_unit</th>\n    </tr>\n  </thead>\n  <tbody>\n    <tr>\n      <th>0</th>\n      <td>2010-12-01 08:26:00</td>\n      <td>15.30</td>\n      <td>6</td>\n      <td>2.55</td>\n    </tr>\n    <tr>\n      <th>1</th>\n      <td>2010-12-01 08:26:00</td>\n      <td>20.34</td>\n      <td>6</td>\n      <td>3.39</td>\n    </tr>\n    <tr>\n      <th>2</th>\n      <td>2010-12-01 08:26:00</td>\n      <td>22.00</td>\n      <td>8</td>\n      <td>2.75</td>\n    </tr>\n    <tr>\n      <th>3</th>\n      <td>2010-12-01 08:26:00</td>\n      <td>20.34</td>\n      <td>6</td>\n      <td>3.39</td>\n    </tr>\n    <tr>\n      <th>4</th>\n      <td>2010-12-01 08:26:00</td>\n      <td>20.34</td>\n      <td>6</td>\n      <td>3.39</td>\n    </tr>\n    <tr>\n      <th>...</th>\n      <td>...</td>\n      <td>...</td>\n      <td>...</td>\n      <td>...</td>\n    </tr>\n    <tr>\n      <th>522059</th>\n      <td>2011-12-09 12:50:00</td>\n      <td>10.20</td>\n      <td>12</td>\n      <td>0.85</td>\n    </tr>\n    <tr>\n      <th>522060</th>\n      <td>2011-12-09 12:50:00</td>\n      <td>12.60</td>\n      <td>6</td>\n      <td>2.10</td>\n    </tr>\n    <tr>\n      <th>522061</th>\n      <td>2011-12-09 12:50:00</td>\n      <td>16.60</td>\n      <td>4</td>\n      <td>4.15</td>\n    </tr>\n    <tr>\n      <th>522062</th>\n      <td>2011-12-09 12:50:00</td>\n      <td>16.60</td>\n      <td>4</td>\n      <td>4.15</td>\n    </tr>\n    <tr>\n      <th>522063</th>\n      <td>2011-12-09 12:50:00</td>\n      <td>14.85</td>\n      <td>3</td>\n      <td>4.95</td>\n    </tr>\n  </tbody>\n</table>\n<p>522064 rows × 4 columns</p>\n</div>"
     },
     "execution_count": 9,
     "metadata": {},
     "output_type": "execute_result"
    }
   ],
   "source": [
    "data_TS"
   ],
   "metadata": {
    "collapsed": false,
    "pycharm": {
     "name": "#%%\n"
    }
   }
  },
  {
   "cell_type": "code",
   "execution_count": 10,
   "outputs": [],
   "source": [
    "data_TS = data_TS.set_index(['date'])"
   ],
   "metadata": {
    "collapsed": false,
    "pycharm": {
     "name": "#%%\n"
    }
   }
  },
  {
   "cell_type": "code",
   "execution_count": 11,
   "outputs": [
    {
     "data": {
      "text/plain": "                     price_total  quantity  price_unit\ndate                                                  \n2010-12-01 08:26:00        15.30         6        2.55\n2010-12-01 08:26:00        20.34         6        3.39\n2010-12-01 08:26:00        22.00         8        2.75\n2010-12-01 08:26:00        20.34         6        3.39\n2010-12-01 08:26:00        20.34         6        3.39\n...                          ...       ...         ...\n2011-12-09 12:50:00        10.20        12        0.85\n2011-12-09 12:50:00        12.60         6        2.10\n2011-12-09 12:50:00        16.60         4        4.15\n2011-12-09 12:50:00        16.60         4        4.15\n2011-12-09 12:50:00        14.85         3        4.95\n\n[522064 rows x 3 columns]",
      "text/html": "<div>\n<style scoped>\n    .dataframe tbody tr th:only-of-type {\n        vertical-align: middle;\n    }\n\n    .dataframe tbody tr th {\n        vertical-align: top;\n    }\n\n    .dataframe thead th {\n        text-align: right;\n    }\n</style>\n<table border=\"1\" class=\"dataframe\">\n  <thead>\n    <tr style=\"text-align: right;\">\n      <th></th>\n      <th>price_total</th>\n      <th>quantity</th>\n      <th>price_unit</th>\n    </tr>\n    <tr>\n      <th>date</th>\n      <th></th>\n      <th></th>\n      <th></th>\n    </tr>\n  </thead>\n  <tbody>\n    <tr>\n      <th>2010-12-01 08:26:00</th>\n      <td>15.30</td>\n      <td>6</td>\n      <td>2.55</td>\n    </tr>\n    <tr>\n      <th>2010-12-01 08:26:00</th>\n      <td>20.34</td>\n      <td>6</td>\n      <td>3.39</td>\n    </tr>\n    <tr>\n      <th>2010-12-01 08:26:00</th>\n      <td>22.00</td>\n      <td>8</td>\n      <td>2.75</td>\n    </tr>\n    <tr>\n      <th>2010-12-01 08:26:00</th>\n      <td>20.34</td>\n      <td>6</td>\n      <td>3.39</td>\n    </tr>\n    <tr>\n      <th>2010-12-01 08:26:00</th>\n      <td>20.34</td>\n      <td>6</td>\n      <td>3.39</td>\n    </tr>\n    <tr>\n      <th>...</th>\n      <td>...</td>\n      <td>...</td>\n      <td>...</td>\n    </tr>\n    <tr>\n      <th>2011-12-09 12:50:00</th>\n      <td>10.20</td>\n      <td>12</td>\n      <td>0.85</td>\n    </tr>\n    <tr>\n      <th>2011-12-09 12:50:00</th>\n      <td>12.60</td>\n      <td>6</td>\n      <td>2.10</td>\n    </tr>\n    <tr>\n      <th>2011-12-09 12:50:00</th>\n      <td>16.60</td>\n      <td>4</td>\n      <td>4.15</td>\n    </tr>\n    <tr>\n      <th>2011-12-09 12:50:00</th>\n      <td>16.60</td>\n      <td>4</td>\n      <td>4.15</td>\n    </tr>\n    <tr>\n      <th>2011-12-09 12:50:00</th>\n      <td>14.85</td>\n      <td>3</td>\n      <td>4.95</td>\n    </tr>\n  </tbody>\n</table>\n<p>522064 rows × 3 columns</p>\n</div>"
     },
     "execution_count": 11,
     "metadata": {},
     "output_type": "execute_result"
    }
   ],
   "source": [
    "data_TS"
   ],
   "metadata": {
    "collapsed": false,
    "pycharm": {
     "name": "#%%\n"
    }
   }
  },
  {
   "cell_type": "code",
   "execution_count": 12,
   "outputs": [],
   "source": [
    "data_daily_ts = data_TS.resample('D').agg({'quantity': 'sum','price_total':'sum'})"
   ],
   "metadata": {
    "collapsed": false,
    "pycharm": {
     "name": "#%%\n"
    }
   }
  },
  {
   "cell_type": "code",
   "execution_count": 12,
   "outputs": [],
   "source": [],
   "metadata": {
    "collapsed": false,
    "pycharm": {
     "name": "#%%\n"
    }
   }
  },
  {
   "cell_type": "code",
   "execution_count": 13,
   "outputs": [
    {
     "data": {
      "text/plain": "            quantity  price_total\ndate                             \n2010-12-01     26754     58405.41\n2010-12-02     31304     47725.88\n2010-12-03     12546     44366.86\n2010-12-04         0         0.00\n2010-12-05     16451     31774.95\n...              ...          ...\n2011-12-05     43792     87787.26\n2011-12-06     30133     56713.21\n2011-12-07     37722     71582.27\n2011-12-08     34293     81410.86\n2011-12-09     93979    200920.60\n\n[374 rows x 2 columns]",
      "text/html": "<div>\n<style scoped>\n    .dataframe tbody tr th:only-of-type {\n        vertical-align: middle;\n    }\n\n    .dataframe tbody tr th {\n        vertical-align: top;\n    }\n\n    .dataframe thead th {\n        text-align: right;\n    }\n</style>\n<table border=\"1\" class=\"dataframe\">\n  <thead>\n    <tr style=\"text-align: right;\">\n      <th></th>\n      <th>quantity</th>\n      <th>price_total</th>\n    </tr>\n    <tr>\n      <th>date</th>\n      <th></th>\n      <th></th>\n    </tr>\n  </thead>\n  <tbody>\n    <tr>\n      <th>2010-12-01</th>\n      <td>26754</td>\n      <td>58405.41</td>\n    </tr>\n    <tr>\n      <th>2010-12-02</th>\n      <td>31304</td>\n      <td>47725.88</td>\n    </tr>\n    <tr>\n      <th>2010-12-03</th>\n      <td>12546</td>\n      <td>44366.86</td>\n    </tr>\n    <tr>\n      <th>2010-12-04</th>\n      <td>0</td>\n      <td>0.00</td>\n    </tr>\n    <tr>\n      <th>2010-12-05</th>\n      <td>16451</td>\n      <td>31774.95</td>\n    </tr>\n    <tr>\n      <th>...</th>\n      <td>...</td>\n      <td>...</td>\n    </tr>\n    <tr>\n      <th>2011-12-05</th>\n      <td>43792</td>\n      <td>87787.26</td>\n    </tr>\n    <tr>\n      <th>2011-12-06</th>\n      <td>30133</td>\n      <td>56713.21</td>\n    </tr>\n    <tr>\n      <th>2011-12-07</th>\n      <td>37722</td>\n      <td>71582.27</td>\n    </tr>\n    <tr>\n      <th>2011-12-08</th>\n      <td>34293</td>\n      <td>81410.86</td>\n    </tr>\n    <tr>\n      <th>2011-12-09</th>\n      <td>93979</td>\n      <td>200920.60</td>\n    </tr>\n  </tbody>\n</table>\n<p>374 rows × 2 columns</p>\n</div>"
     },
     "execution_count": 13,
     "metadata": {},
     "output_type": "execute_result"
    }
   ],
   "source": [
    "data_daily_ts"
   ],
   "metadata": {
    "collapsed": false,
    "pycharm": {
     "name": "#%%\n"
    }
   }
  },
  {
   "cell_type": "code",
   "execution_count": 14,
   "outputs": [],
   "source": [
    "data_daily_ts.to_csv(\"./data_daily_ts.csv\")"
   ],
   "metadata": {
    "collapsed": false,
    "pycharm": {
     "name": "#%%\n"
    }
   }
  },
  {
   "cell_type": "code",
   "execution_count": 14,
   "outputs": [],
   "source": [],
   "metadata": {
    "collapsed": false,
    "pycharm": {
     "name": "#%%\n"
    }
   }
  },
  {
   "cell_type": "code",
   "execution_count": 14,
   "outputs": [],
   "source": [],
   "metadata": {
    "collapsed": false,
    "pycharm": {
     "name": "#%%\n"
    }
   }
  },
  {
   "cell_type": "code",
   "execution_count": 15,
   "outputs": [
    {
     "name": "stdout",
     "output_type": "stream",
     "text": [
      "<class 'pandas.core.frame.DataFrame'>\n",
      "DatetimeIndex: 374 entries, 2010-12-01 to 2011-12-09\n",
      "Freq: D\n",
      "Data columns (total 2 columns):\n",
      " #   Column       Non-Null Count  Dtype  \n",
      "---  ------       --------------  -----  \n",
      " 0   quantity     374 non-null    int64  \n",
      " 1   price_total  374 non-null    float64\n",
      "dtypes: float64(1), int64(1)\n",
      "memory usage: 8.8 KB\n"
     ]
    }
   ],
   "source": [
    "data_daily_ts.info()"
   ],
   "metadata": {
    "collapsed": false,
    "pycharm": {
     "name": "#%%\n"
    }
   }
  },
  {
   "cell_type": "code",
   "execution_count": 15,
   "outputs": [],
   "source": [],
   "metadata": {
    "collapsed": false,
    "pycharm": {
     "name": "#%%\n"
    }
   }
  },
  {
   "cell_type": "code",
   "execution_count": 15,
   "outputs": [],
   "source": [],
   "metadata": {
    "collapsed": false,
    "pycharm": {
     "name": "#%%\n"
    }
   }
  },
  {
   "cell_type": "code",
   "execution_count": 16,
   "outputs": [
    {
     "name": "stdout",
     "output_type": "stream",
     "text": [
      "<class 'pandas.core.frame.DataFrame'>\n",
      "RangeIndex: 522064 entries, 0 to 522063\n",
      "Data columns (total 8 columns):\n",
      " #   Column       Non-Null Count   Dtype         \n",
      "---  ------       --------------   -----         \n",
      " 0   BillNo       522064 non-null  object        \n",
      " 1   Itemname     520609 non-null  object        \n",
      " 2   Quantity     522064 non-null  int64         \n",
      " 3   Date         522064 non-null  datetime64[ns]\n",
      " 4   Price        522064 non-null  float64       \n",
      " 5   CustomerID   388023 non-null  float64       \n",
      " 6   Country      522064 non-null  object        \n",
      " 7   Price_total  522064 non-null  float64       \n",
      "dtypes: datetime64[ns](1), float64(3), int64(1), object(3)\n",
      "memory usage: 31.9+ MB\n"
     ]
    }
   ],
   "source": [
    "data.info()"
   ],
   "metadata": {
    "collapsed": false,
    "pycharm": {
     "name": "#%%\n"
    }
   }
  },
  {
   "cell_type": "code",
   "execution_count": 17,
   "outputs": [
    {
     "data": {
      "text/plain": "(522064, 8)"
     },
     "execution_count": 17,
     "metadata": {},
     "output_type": "execute_result"
    }
   ],
   "source": [
    "data.shape"
   ],
   "metadata": {
    "collapsed": false,
    "pycharm": {
     "name": "#%%\n"
    }
   }
  },
  {
   "cell_type": "code",
   "execution_count": 18,
   "outputs": [
    {
     "data": {
      "text/plain": "array([536365, 536366, 536367, ..., 581585, 581586, 581587], dtype=object)"
     },
     "execution_count": 18,
     "metadata": {},
     "output_type": "execute_result"
    }
   ],
   "source": [
    "data.BillNo.unique()"
   ],
   "metadata": {
    "collapsed": false,
    "pycharm": {
     "name": "#%%\n"
    }
   }
  },
  {
   "cell_type": "code",
   "execution_count": 19,
   "outputs": [
    {
     "data": {
      "text/plain": "array(['WHITE HANGING HEART T-LIGHT HOLDER', 'WHITE METAL LANTERN',\n       'CREAM CUPID HEARTS COAT HANGER', ..., 'lost',\n       'CREAM HANGING HEART T-LIGHT HOLDER',\n       'PAPER CRAFT , LITTLE BIRDIE'], dtype=object)"
     },
     "execution_count": 19,
     "metadata": {},
     "output_type": "execute_result"
    }
   ],
   "source": [
    "data.Itemname.unique()"
   ],
   "metadata": {
    "collapsed": false,
    "pycharm": {
     "name": "#%%\n"
    }
   }
  },
  {
   "cell_type": "code",
   "execution_count": 20,
   "outputs": [
    {
     "data": {
      "text/plain": "array([17850., 13047., 12583., ..., 13298., 14569., 12713.])"
     },
     "execution_count": 20,
     "metadata": {},
     "output_type": "execute_result"
    }
   ],
   "source": [
    "data.CustomerID.unique()"
   ],
   "metadata": {
    "collapsed": false,
    "pycharm": {
     "name": "#%%\n"
    }
   }
  },
  {
   "cell_type": "code",
   "execution_count": 21,
   "outputs": [
    {
     "data": {
      "text/plain": "array(['United Kingdom', 'France', 'Australia', 'Netherlands', 'Germany',\n       'Norway', 'Switzerland', 'Spain', 'Poland', 'Portugal', 'Italy',\n       'Belgium', 'Lithuania', 'Japan', 'Iceland', 'Sweden', 'Austria',\n       'Bahrain', 'Israel', 'Greece', 'Hong Kong', 'Singapore', 'Lebanon',\n       'United Arab Emirates', 'Saudi Arabia', 'Unspecified', 'Brazil',\n       'USA', 'Malta', 'RSA'], dtype=object)"
     },
     "execution_count": 21,
     "metadata": {},
     "output_type": "execute_result"
    }
   ],
   "source": [
    "data.Country.unique()"
   ],
   "metadata": {
    "collapsed": false,
    "pycharm": {
     "name": "#%%\n"
    }
   }
  },
  {
   "cell_type": "markdown",
   "source": [
    "## Para fazer\n",
    "* Plot de vendas por pais\n",
    "* plot de vendas por produtos\n",
    "* plot de  correlação\n",
    "* verificar possiveis ideias sobre Series Temporais (feito)\n",
    "* predição de vendas no dia (fazer amanhã)"
   ],
   "metadata": {
    "collapsed": false,
    "pycharm": {
     "name": "#%% md\n"
    }
   }
  },
  {
   "cell_type": "markdown",
   "source": [
    "\n"
   ],
   "metadata": {
    "collapsed": false,
    "pycharm": {
     "name": "#%% md\n"
    }
   }
  },
  {
   "cell_type": "code",
   "execution_count": 21,
   "outputs": [],
   "source": [],
   "metadata": {
    "collapsed": false,
    "pycharm": {
     "name": "#%%\n"
    }
   }
  }
 ],
 "metadata": {
  "kernelspec": {
   "display_name": "Python 3",
   "language": "python",
   "name": "python3"
  },
  "language_info": {
   "codemirror_mode": {
    "name": "ipython",
    "version": 2
   },
   "file_extension": ".py",
   "mimetype": "text/x-python",
   "name": "python",
   "nbconvert_exporter": "python",
   "pygments_lexer": "ipython2",
   "version": "2.7.6"
  }
 },
 "nbformat": 4,
 "nbformat_minor": 0
}